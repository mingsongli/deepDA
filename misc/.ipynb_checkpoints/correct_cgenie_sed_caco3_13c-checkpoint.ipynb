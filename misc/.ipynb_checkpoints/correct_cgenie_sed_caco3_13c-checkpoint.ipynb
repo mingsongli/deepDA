{
 "cells": [
  {
   "cell_type": "code",
   "execution_count": 113,
   "metadata": {},
   "outputs": [],
   "source": [
    "\"\"\"\n",
    "Correct cGENIE field of sed_CaCO3_13C\n",
    "\n",
    "Some grids have illness d13C data of -44, -311.3, 9.7, 15.1\n",
    "at locations of 35E,45E,55E and 59.4N,66.4N,76.5N\n",
    "\"\"\"\n",
    "import yaml\n",
    "import numpy as np\n",
    "import pandas\n",
    "import os\n",
    "from netCDF4 import Dataset\n",
    "from shutil import copyfile\n",
    "\n",
    "nc_field = 'sed_CaCO3_13C'\n",
    "nc_field_ref = 'sed_CaCO3'\n",
    "\n",
    "config_dir = '/mnt/c/Users/mul450/Dropbox/git/deepDA/'\n",
    "config_name = \"DeepDA_config.yml\"\n",
    "#config_name = \"petmproxy3slices_v0.0.10gt1.csvexp_petm78_og1_qc_obs_20200203_test2.yml\"\n",
    "f = open(config_dir+config_name, 'r')\n",
    "yml_dict = yaml.load(f, Loader=yaml.FullLoader)\n",
    "f.close()"
   ]
  },
  {
   "cell_type": "code",
   "execution_count": 116,
   "metadata": {},
   "outputs": [],
   "source": [
    "def check_ill(x):\n",
    "    x_ill = np.asarray(np.where( np.logical_or(x<0, np.logical_and(x>10, x<1.0e10))))\n",
    "    #print(x_ill)\n",
    "    if x_ill.shape[1] > 0:\n",
    "        return True\n",
    "    else:\n",
    "        return False\n",
    "def irrigate_ill(x):\n",
    "    x_ill = np.asarray(np.where( np.logical_or(x<0, np.logical_and(x>10, x<1.0e10))))\n",
    "    x_ill_len = x_ill.shape[1]\n",
    "    for j in range(x_ill_len):\n",
    "        ind0 = x_ill[0][j]\n",
    "        ind1 = x_ill[1][j]\n",
    "        x_s = np.array([[ind0-1,ind0,ind0+1,ind0-1,ind0+1,ind0-1,ind0,ind0+1], [ind1-1,ind1-1,ind1-1,ind1,ind1,ind1+1,ind1+1,ind1+1]])\n",
    "        x_s[x_s == 36] = -1\n",
    "        x_re = np.full(x_s.shape[1],np.nan)\n",
    "        for k in range(x_s.shape[1]):\n",
    "            if ~np.ma.is_masked(x[x_s[0][k], x_s[1][k]]):\n",
    "                if x[x_s[0][k], x_s[1][k]] < 10 and x[x_s[0][k], x_s[1][k]] > 0:\n",
    "                    x_re[k] = x[x_s[0][k], x_s[1][k]]\n",
    "        x[ind0][ind1] = np.nanmean(x_re)\n",
    "    return x"
   ]
  },
  {
   "cell_type": "code",
   "execution_count": 117,
   "metadata": {},
   "outputs": [
    {
     "name": "stdout",
     "output_type": "stream",
     "text": [
      "ML.petm009.ID.1\n",
      "[[ 1  2  2  2  2  2  3  3  3  3  4  4  4  5  5  6  7  9  9 12 12 13 14 14\n",
      "  15 16 16 18 18 19 19 19 19 20 20 20 21 23 23 24 24 24 24 24 25 26 26 26\n",
      "  26 27 27 27 27 28 29 29 29 29 30 30 30 31 31 31 31 32 32 32 33 33 33 34\n",
      "  34 34 35 35 35 35 35 35 35 35 35 35]\n",
      " [ 3  1  3  6  8 10  0  1  4 17  5 24 32  6 32 27 28 15 29 15 16 16 20 23\n",
      "  15 14 15 21 24 15 24 25 27 10 23 24 28  9 21  9 18 19 21 28 10 10 15 20\n",
      "  22  9 10 22 29 22 12 16 21 23 19 22 23  6 20 21 22 13 22 31 22 23 33 22\n",
      "  23 34  5  8  9 10 11 12 13 14 15 16]]\n",
      ">> ML.petm009.ID.1 Data is ill. try #1 to fix illness index \n",
      "[]\n",
      "√ √   New 2d file: /mnt/d/cGENIE/ML.petm/ML.petm009/ML.petm009.ID.1/biogem/fields_biogem_2d_13ccorr.nc\n",
      ">>  End writing netCDF\n"
     ]
    }
   ],
   "source": [
    "dir_prior = yml_dict['core']['prior_dir']\n",
    "dir_prior_full = os.listdir(dir_prior)\n",
    "print(dir_prior_full[0])\n",
    "prior_len = len(dir_prior_full)\n",
    "#prior_len = 1\n",
    "# ========= dataset for plot =========\n",
    "cGENIEGrid = yml_dict['core']['proj_dir'] + '/data_misc/cGENIEGrid.csv'\n",
    "cGENIEGrid = pandas.read_csv(cGENIEGrid)\n",
    "cGENIEGridB_lat36 = cGENIEGrid['lat']\n",
    "cGENIEGridB_lon36 = cGENIEGrid['lon']\n",
    "\n",
    "for i in range(prior_len):\n",
    "    name_nc_2d = dir_prior+'/'+ dir_prior_full[i]+'/'+ 'biogem' + '/' + 'fields_biogem_2d.nc'\n",
    "    x = Dataset(name_nc_2d).variables[nc_field][0,:,:]\n",
    "    x_ill = check_ill(x)\n",
    "    if x_ill:\n",
    "        x_ill_index = np.asarray(np.where(x < -9.0e+18))\n",
    "        print('>> {} Data is ill. try #1 to fix illness index '.format(dir_prior_full[i]))\n",
    "        #print('{}'.format(x_ill_index))\n",
    "        x = np.copy(irrigate_ill(x))\n",
    "    x_ill = check_ill(x)\n",
    "    if x_ill:\n",
    "        x_ill_index = np.asarray(np.where(x < -9.0e+18))\n",
    "        print('x x   Data is ill. still need to fix illness index ######################################################'.format())\n",
    "        print('{}'.format(x_ill_index))\n",
    "    else:\n",
    "        namc_nc_cp = dir_prior+'/'+ dir_prior_full[i]+'/'+ 'biogem' + '/' + 'fields_biogem_2d_13ccorr.nc'\n",
    "        print('√ √   New 2d file: {}'.format(namc_nc_cp))\n",
    "        copyfile(name_nc_2d, namc_nc_cp)\n",
    "        nf = Dataset(namc_nc_cp, 'a', format='NETCDF4')\n",
    "        sed_CaCO3_13C_corr = nf.createVariable('sed_CaCO3_13C_corr', 'f4', ('time','lat', 'lon'))\n",
    "        sed_CaCO3_13C_corr[:,:,:] = np.copy(x.reshape(1,36,36))\n",
    "        sed_CaCO3_13C_corr.units = 'o/oo'\n",
    "        nf.close()  # close the new file\n",
    "print('>>  End writing netCDF')"
   ]
  },
  {
   "cell_type": "code",
   "execution_count": 100,
   "metadata": {},
   "outputs": [],
   "source": [
    "nf.close()  # close the new file"
   ]
  },
  {
   "cell_type": "code",
   "execution_count": null,
   "metadata": {},
   "outputs": [],
   "source": []
  },
  {
   "cell_type": "code",
   "execution_count": null,
   "metadata": {},
   "outputs": [],
   "source": []
  },
  {
   "cell_type": "code",
   "execution_count": null,
   "metadata": {},
   "outputs": [],
   "source": []
  }
 ],
 "metadata": {
  "kernelspec": {
   "display_name": "Python 3",
   "language": "python",
   "name": "python3"
  },
  "language_info": {
   "codemirror_mode": {
    "name": "ipython",
    "version": 3
   },
   "file_extension": ".py",
   "mimetype": "text/x-python",
   "name": "python",
   "nbconvert_exporter": "python",
   "pygments_lexer": "ipython3",
   "version": "3.6.8"
  }
 },
 "nbformat": 4,
 "nbformat_minor": 4
}
