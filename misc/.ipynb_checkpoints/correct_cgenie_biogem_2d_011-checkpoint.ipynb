{
 "cells": [
  {
   "cell_type": "code",
   "execution_count": null,
   "metadata": {},
   "outputs": [],
   "source": [
    "\"\"\"\n",
    "Generate surface cGENIE field for biogem_2d.nc file\n",
    "\n",
    "\"\"\"\n",
    "import yaml\n",
    "import numpy as np\n",
    "import pandas\n",
    "import os\n",
    "from netCDF4 import Dataset\n",
    "from shutil import copyfile\n",
    "\n",
    "biogem_nc_2d = 'fields_biogem_2d.nc'\n",
    "nc_field_2d = ['ocn_sur_temp','ocn_sur_sal','carb_sur_ohm_cal']\n",
    "\n",
    "biogem_nc_3d = 'fields_biogem_3d.nc'\n",
    "nc_field_3d = ['ocn_temp','ocn_sal','carb_ohm_cal']\n",
    "\n",
    "t = 0  # time = 1\n",
    "k = 0  # surface layer\n",
    "\n",
    "config_dir = '/mnt/c/Users/mul450/Dropbox/git/deepDA/'\n",
    "config_name = \"DeepDA_config.yml\"\n",
    "#config_name = \"petmproxy3slices_v0.0.10gt1.csvexp_petm78_og1_qc_obs_20200203_test2.yml\"\n",
    "f = open(config_dir+config_name, 'r')\n",
    "yml_dict = yaml.load(f, Loader=yaml.FullLoader)\n",
    "f.close()"
   ]
  },
  {
   "cell_type": "code",
   "execution_count": 13,
   "metadata": {},
   "outputs": [
    {
     "name": "stdout",
     "output_type": "stream",
     "text": [
      "ML.petm011.ID.1\n",
      ">>    Read 3d, save 2d\n",
      "ocn_sur_temp\n",
      "[[-- -- -- ... -- -- --]\n",
      " [18.415224075317383 18.07649803161621 17.79726219177246 ...\n",
      "  15.102563858032227 17.156469345092773 18.386886596679688]\n",
      " [22.99634552001953 22.492416381835938 22.19077491760254 ...\n",
      "  21.073240280151367 21.33545684814453 22.234207153320312]\n",
      " ...\n",
      " [21.496816635131836 21.30443000793457 20.795175552368164 ...\n",
      "  21.358983993530273 21.262691497802734 21.392213821411133]\n",
      " [18.505929946899414 18.766902923583984 -- ... -- 18.10355567932129\n",
      "  18.358081817626953]\n",
      " [-- -- -- ... -- -- --]]\n",
      "ocn_sur_sal\n",
      "[[-- -- -- ... -- -- --]\n",
      " [33.90686798095703 33.90791320800781 33.904388427734375 ...\n",
      "  32.24444580078125 33.504051208496094 33.84774398803711]\n",
      " [34.04732894897461 34.04720687866211 34.023921966552734 ...\n",
      "  33.384674072265625 33.654396057128906 33.923580169677734]\n",
      " ...\n",
      " [33.72677993774414 33.75654983520508 33.67353439331055 ...\n",
      "  33.38896179199219 33.525508880615234 33.64944839477539]\n",
      " [33.70265197753906 33.74671173095703 -- ... -- 33.58915328979492\n",
      "  33.65848159790039]\n",
      " [-- -- -- ... -- -- --]]\n",
      "carb_sur_ohm_cal\n",
      "[[-- -- -- ... -- -- --]\n",
      " [3.0253210067749023 2.9761393070220947 2.956742286682129 ...\n",
      "  2.5136358737945557 2.8838343620300293 3.0367562770843506]\n",
      " [3.680640697479248 3.606663942337036 3.566884756088257 ...\n",
      "  3.3978192806243896 3.4263484477996826 3.5690813064575195]\n",
      " ...\n",
      " [3.436793804168701 3.4005281925201416 3.337153673171997 ...\n",
      "  3.4469993114471436 3.4072318077087402 3.4245033264160156]\n",
      " [3.0348613262176514 3.0701663494110107 -- ... -- 3.038419723510742\n",
      "  3.0334620475769043]\n",
      " [-- -- -- ... -- -- --]]\n",
      ">>  End writing netCDF\n"
     ]
    }
   ],
   "source": [
    "dir_prior = yml_dict['core']['prior_dir']\n",
    "nens = yml_dict['core']['nens']\n",
    "dir_prior_full = os.listdir(dir_prior)\n",
    "print(dir_prior_full[0])\n",
    "prior_len = len(dir_prior_full)\n",
    "\n",
    "# to test the first one\n",
    "#prior_len = 1\n",
    "print('>>    Read 3d, save 2d')\n",
    "\n",
    "for i in range(prior_len):\n",
    "    name_nc_3d = dir_prior+'/'+ dir_prior_full[i]+'/'+ 'biogem' + '/' + biogem_nc_3d\n",
    "    name_nc_2d = dir_prior+'/'+ dir_prior_full[i]+'/'+ 'biogem' + '/' + biogem_nc_2d\n",
    "    \n",
    "    nf = Dataset(name_nc_2d, 'a', format='NETCDF4')\n",
    "    \n",
    "    for j in range(len(nc_field_3d)):\n",
    "        \n",
    "        nc_field_ref = nc_field_3d[j]\n",
    "        nc_field_2di  = nc_field_2d[j]\n",
    "        \n",
    "        nc_field_x = Dataset(name_nc_3d).variables[nc_field_ref][t,k,:,:]\n",
    "        #print(nc_field_2di)\n",
    "        #print(nc_field_x)\n",
    "        \n",
    "        if nc_field_ref in ['ocn_temp']:\n",
    "            ocn_sur_temp = nf.createVariable(nc_field_2di, 'f4', ('time','lat', 'lon'))\n",
    "            ocn_sur_temp[:,:,:] = np.copy(nc_field_x.reshape(1,36,36))\n",
    "            \n",
    "        if nc_field_ref in ['ocn_sal']:\n",
    "            ocn_sur_sal = nf.createVariable(nc_field_2di, 'f4', ('time','lat', 'lon'))\n",
    "            ocn_sur_sal[:,:,:] = np.copy(nc_field_x.reshape(1,36,36))\n",
    "            \n",
    "        if nc_field_ref in ['carb_ohm_cal']:\n",
    "            carb_sur_ohm_cal = nf.createVariable(nc_field_2di, 'f4', ('time','lat', 'lon'))\n",
    "            carb_sur_ohm_cal[:,:,:] = np.copy(nc_field_x.reshape(1,36,36))\n",
    "            \n",
    "    nf.close()  # close the new file\n",
    "    print('>>    {} done'.format(name_nc_2d))\n",
    "print('>>  End writing netCDF')"
   ]
  },
  {
   "cell_type": "code",
   "execution_count": 9,
   "metadata": {},
   "outputs": [],
   "source": [
    "nf.close()  # close the new file"
   ]
  },
  {
   "cell_type": "code",
   "execution_count": null,
   "metadata": {},
   "outputs": [],
   "source": []
  }
 ],
 "metadata": {
  "kernelspec": {
   "display_name": "Python 3",
   "language": "python",
   "name": "python3"
  },
  "language_info": {
   "codemirror_mode": {
    "name": "ipython",
    "version": 3
   },
   "file_extension": ".py",
   "mimetype": "text/x-python",
   "name": "python",
   "nbconvert_exporter": "python",
   "pygments_lexer": "ipython3",
   "version": "3.6.8"
  }
 },
 "nbformat": 4,
 "nbformat_minor": 4
}
