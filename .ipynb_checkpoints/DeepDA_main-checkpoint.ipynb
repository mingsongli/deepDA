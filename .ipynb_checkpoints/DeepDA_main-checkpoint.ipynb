{
 "cells": [
  {
   "cell_type": "code",
   "execution_count": 141,
   "metadata": {},
   "outputs": [
    {
     "name": "stdout",
     "output_type": "stream",
     "text": [
      ">>  OKAY.\n"
     ]
    }
   ],
   "source": [
    "'''\n",
    "Data assimilation for deep time\n",
    "Stage 1:    Prior: cGENIE only\n",
    "            Proxy: petmproxy3slices format database\n",
    "            PSM: bayesian proxy system model\n",
    "            DA: Mingsong Li, with LMR DA Core\n",
    "            \n",
    "            Mingsong Li\n",
    "            1/15/2020\n",
    "'''\n",
    "# Package\n",
    "import h5py\n",
    "from DeepDA_lib import LMR_DA\n",
    "\n",
    "from netCDF4 import Dataset\n",
    "import os\n",
    "import numpy as np\n",
    "import numpy.ma as ma\n",
    "import numpy.matlib as mat\n",
    "import scipy.stats as stats\n",
    "import pandas\n",
    "from sys import platform as sys_pf\n",
    "import yaml\n",
    "import matplotlib.pyplot as plt\n",
    "if sys_pf == 'darwin':\n",
    "    import matplotlib\n",
    "    matplotlib.use(\"TkAgg\")\n",
    "    import matplotlib.pyplot as plt\n",
    "%matplotlib inline\n",
    "from mpl_toolkits.basemap import Basemap, shiftgrid, cm\n",
    "\n",
    "print('>>  OKAY.')"
   ]
  },
  {
   "cell_type": "code",
   "execution_count": 142,
   "metadata": {},
   "outputs": [],
   "source": [
    "nc_file ='fields_biogem_2d.nc'"
   ]
  },
  {
   "cell_type": "code",
   "execution_count": 143,
   "metadata": {},
   "outputs": [
    {
     "name": "stdout",
     "output_type": "stream",
     "text": [
      "    Shape of prior 2d grid (36, 36)\n",
      ">>  Number of prior variables is: 5. List:\n",
      "      ['ocn_sur_temp', 'atm_temp', 'atm_pCO2', 'ocn_sur_sal', 'ocn_ben_DIC_13C']\n",
      ">>  OKAY.\n"
     ]
    }
   ],
   "source": [
    "# read DTDA-config.yml\n",
    "f = open(\"DeepDA_config.yml\", 'r')\n",
    "yml_dict = yaml.load(f, Loader=yaml.FullLoader)\n",
    "f.close()\n",
    "loc=None\n",
    "\n",
    "dir_prior = yml_dict['core']['prior_dir']\n",
    "dir_prior_full = os.listdir(dir_prior)\n",
    "prior_variable_dict = yml_dict['prior']['state_variables_info']\n",
    "\n",
    "# read first variable data, first time slice, to get the shape of prior grid\n",
    "x0 = Dataset(dir_prior+'/'+dir_prior_full[0]+'/'+nc_file).variables[prior_variable_dict[0]][0,:,:]\n",
    "print('    Shape of prior 2d grid {}'.format(x0.shape))\n",
    "dum_imax = x0.shape[0]  # lon\n",
    "dum_jmax = x0.shape[1]  # lat\n",
    "dum_ijmax = dum_imax*dum_jmax  # lonn * latn\n",
    "\n",
    "\n",
    "# ========= dataset for plot =========\n",
    "cGENIEGrid = yml_dict['core']['data_dir'] + '/data_misc/cGENIEGrid.csv'\n",
    "cGENIEGrid = pandas.read_csv(cGENIEGrid)\n",
    "#print(cGENIEGrid)\n",
    "cGENIEGridB_lat36 = cGENIEGrid['lat']\n",
    "cGENIEGridB_lon36 = cGENIEGrid['lon']\n",
    "#\n",
    "# variable list\n",
    "prior_variable_dict = yml_dict['prior']['state_variables_info']\n",
    "prior_variable_len = len(prior_variable_dict)\n",
    "print('>>  Number of prior variables is: {}. List:'.format(prior_variable_len))\n",
    "print('      {}'.format(prior_variable_dict))\n",
    "print('>>  OKAY.')"
   ]
  },
  {
   "cell_type": "code",
   "execution_count": 157,
   "metadata": {},
   "outputs": [
    {
     "name": "stdout",
     "output_type": "stream",
     "text": [
      "<HDF5 dataset \"obvalue\": shape (40, 3), type \"<f8\">\n",
      "recon intervals: 3, obser number 40\n",
      "\n",
      "start writing netCDF\n",
      "id from 0 to 1296: ocn_sur_temp\n",
      "id from 1296 to 2592: atm_temp\n",
      "id from 2592 to 3888: atm_pCO2\n",
      "id from 3888 to 5184: ocn_sur_sal\n",
      "id from 5184 to 6480: ocn_ben_DIC_13C\n",
      "end writing netCDF\n",
      "All Done\n"
     ]
    },
    {
     "name": "stderr",
     "output_type": "stream",
     "text": [
      "/home/mul450/miniconda3/envs/lmr_py3/lib/python3.6/site-packages/ipykernel_launcher.py:110: RuntimeWarning: Mean of empty slice\n",
      "/home/mul450/miniconda3/envs/lmr_py3/lib/python3.6/site-packages/ipykernel_launcher.py:116: RuntimeWarning: invalid value encountered in greater_equal\n"
     ]
    }
   ],
   "source": [
    "# DA\n",
    "\n",
    "nexp = yml_dict['core']['nexp']\n",
    "nens = yml_dict['core']['nens']\n",
    "datadir_output = yml_dict['core']['datadir_output']\n",
    "recon_period = yml_dict['core']['recon_period']\n",
    "recon_timescale = yml_dict['core']['recon_timescale_interval']\n",
    "recon_period_full = np.arange(recon_period[0],recon_period[1]+1,recon_timescale)\n",
    "recon_period_len = recon_period_full.shape[0]\n",
    "\n",
    "# for saving DA product Xa\n",
    "Xa_output   = np.full((dum_ijmax * prior_variable_len, nens, recon_period_len),np.nan)\n",
    "\n",
    "# NetCDF file name\n",
    "nc_filename = datadir_output + '/' + nexp + '.nc'\n",
    "# read preprior HDF5 file\n",
    "dir_proxies = yml_dict['proxies'][yml_dict['proxies']['use_from'][0]]['datadir_proxy'] +'/'+ yml_dict['proxies'][yml_dict['proxies']['use_from'][0]]['dbversion']\n",
    "hdf5name = dir_proxies + '.hdf5'\n",
    "\n",
    "with h5py.File(hdf5name, 'r') as f:\n",
    "    Xb = f.get('Xb')  # read Xb, to be change to Xa\n",
    "    Xb0 = np.copy(Xb)  # default Xb\n",
    "    #Xb = ma.masked_where(Xb>9.9e+36, Xb)\n",
    "    obvalue_full = f.get('obvalue')\n",
    "    Ye_full = f.get('Ye')\n",
    "    ob_err_full = f.get('ob_err')\n",
    "    Yevar = f.get('Yevar')\n",
    "    #print(Xb.shape) # (1296, 150)\n",
    "    #print(Ye_full.shape) # (150, 1)\n",
    "    print(obvalue_full)\n",
    "    \n",
    "    ob_len = obvalue_full.shape[0]\n",
    "    \n",
    "    print('recon intervals: {}, obser number {}'.format(recon_period_len,ob_len))\n",
    "    for reconi in range(recon_period_len):\n",
    "        for obi in range(ob_len):\n",
    "            #print('recon ID: {}, obser ID {}'.format(reconi,obi))\n",
    "            obvalue  = obvalue_full[obi, reconi]\n",
    "            ob_err= ob_err_full[obi, reconi]\n",
    "            Ye = Ye_full[:,obi]\n",
    "            # DA\n",
    "            Xa = LMR_DA.enkf_update_array(Xb, obvalue, Ye, ob_err)\n",
    "            if reconi == 0:\n",
    "                if obi == 0:\n",
    "                    mye= np.mean(Ye)\n",
    "                    ye = np.subtract(Ye, mye)\n",
    "                    xbm = np.mean(Xb,axis=1)\n",
    "                    Xbp = np.subtract(Xb,xbm[:,None])  # \"None\" means replicate in this dimension\n",
    "                    kcov = np.dot(Xbp,np.transpose(ye)) / (nens-1)\n",
    "            # update Xb usin Xa\n",
    "            Xb = np.copy(Xa)\n",
    "\n",
    "        Xa_output[:,:,reconi] = np.copy(Xa)\n",
    "        \n",
    "        Xb = np.copy(Xb0)\n",
    "        \n",
    "    print('')\n",
    "    print('start writing netCDF')\n",
    "    \n",
    "    \n",
    "    \n",
    "    # save netCDF file\n",
    "    nf = Dataset(datadir_output + '/' + nexp  + '.nc', 'w', format='NETCDF4')\n",
    "    nf.description = 'DeepDA' + nc_filename\n",
    "    #Specifying dimensions\n",
    "    nf.createDimension('lon', len(cGENIEGridB_lat36))\n",
    "    nf.createDimension('lat', len(cGENIEGridB_lon36))\n",
    "    z = np.arange(0,1,1)\n",
    "    nf.createDimension('z', len(z))  # level\n",
    "    nf.createDimension('nens', nens)  # number of ens\n",
    "    nf.createDimension('time', recon_period_len)    \n",
    "    # Building variables\n",
    "    longitude = nf.createVariable('Longitude', 'f4', 'lon')\n",
    "    # Passing data into variables\n",
    "    longitude[:] = cGENIEGridB_lon36.values\n",
    "\n",
    "    latitude = nf.createVariable('Latitude', 'f4', 'lat')\n",
    "    latitude[:] = cGENIEGridB_lat36.values\n",
    "\n",
    "    levels = nf.createVariable('Levels', 'i4', 'z')\n",
    "    levels[:] = z\n",
    "    \n",
    "    \n",
    "    \n",
    "    for nc_var_i in range(prior_variable_len):\n",
    "        nc_var_name = prior_variable_dict[nc_var_i]\n",
    "        \n",
    "        j0 = dum_ijmax * nc_var_i\n",
    "        j1 = dum_ijmax * (nc_var_i+1)\n",
    "        print('id from {} to {}: {}'.format(j0, j1,nc_var_name))\n",
    "\n",
    "        Xb0_i = np.copy(Xb0[j0:j1,:])\n",
    "        Xa_output_i = np.copy(Xa_output[j0:j1,:,:])\n",
    "        Xa_outputi = Xa_output_i.reshape(dum_imax,dum_jmax,nens,recon_period_len)\n",
    "        \n",
    "        #Xa_outputi = np.ma.MaskedArray(Xa_outputi, Xa_outputi >= 9.9692e+36)\n",
    "        #Xb0_i = np.ma.MaskedArray(Xb0_i, Xb0_i >= 9.9692e+36)\n",
    "        XbNC_mean = nf.createVariable(nc_var_name+'_Xb_mean', 'f4', ('lat', 'lon','z'))\n",
    "        xbm = np.mean(Xb0_i,axis=1)\n",
    "        XbNC_mean[:,:,:] = np.copy(xbm.reshape(dum_jmax,dum_imax,1))\n",
    "    \n",
    "        XbNC_variance = nf.createVariable(nc_var_name+'_Xb_variance', 'f4', ('lat', 'lon','z'))\n",
    "        Xb_temp = np.copy(np.var(Xb0_i,axis=1).reshape(dum_jmax,dum_imax,1))\n",
    "        Xb_temp = np.ma.MaskedArray(Xb_temp, np.copy(xbm.reshape(dum_jmax,dum_imax,1)) >= 9.9692e+36)\n",
    "        XbNC_variance[:,:,:] = Xb_temp\n",
    "        #XbNC_variance[:,:,:] = np.copy(np.var(Xb0_i,axis=1).reshape(dum_jmax,dum_imax,1))\n",
    "    \n",
    "        XaNC_mean = nf.createVariable(nc_var_name+'_Xa_mean', 'f4', ('lat', 'lon','z','time'))\n",
    "        #print(Xb0_i[0:36,0])\n",
    "        Xam_temp = np.copy(np.nanmean(Xa_outputi,axis=2).reshape(dum_jmax,dum_imax,1,recon_period_len))\n",
    "        XaNC_mean[:,:,:,:] = Xam_temp\n",
    "    \n",
    "        XaNC_variance = nf.createVariable(nc_var_name+'_Xa_variance', 'f4', ('lat', 'lon','z','time'))\n",
    "        #print(Xa_outputi[0,0:36,0,0])\n",
    "        Xa_temp = np.copy(np.ma.var(Xa_outputi,axis=2).reshape(dum_jmax,dum_imax,1,recon_period_len))\n",
    "        Xa_temp = np.ma.MaskedArray(Xa_temp, Xam_temp >= 9.9692e+36)\n",
    "        #print(Xa_temp[0,0:36,0,0])\n",
    "        XaNC_variance[:,:,:,:] = Xa_temp\n",
    "        #XaNC_variance[:,:,:,:] = np.copy(np.ma.var(Xa_outputi,axis=2).reshape(dum_jmax,dum_imax,1,recon_period_len))\n",
    "    \n",
    "        XaNC_full = nf.createVariable(nc_var_name+'_Xa_full', 'f4', ('lat', 'lon', 'nens', 'z','time'))\n",
    "        XaNC_full[:,:,:,:,:] = np.copy(Xa_outputi.reshape(dum_jmax,dum_imax,nens,1,recon_period_len))\n",
    "    \n",
    "                \n",
    "        kcov_i = np.copy(kcov[j0:j1]).reshape(dum_imax,dum_jmax,1)\n",
    "        kcov_i = np.ma.MaskedArray(kcov_i, np.copy(xbm.reshape(dum_jmax,dum_imax,1)) >= 9.9692e+36)\n",
    "        cov_ob0 = nf.createVariable(nc_var_name+'obs0'+'_cov', 'f4', ('lat', 'lon','z'))\n",
    "        cov_ob0[:,:,:] = kcov_i\n",
    "        \n",
    "        #Add local attributes to variable instances\n",
    "        longitude.units = 'degrees east'\n",
    "        latitude.units = 'degrees north'\n",
    "        levels.units = 'layer'\n",
    "        XbNC_mean.units = 'degC'\n",
    "        XbNC_variance.units = 'degC^2'\n",
    "        #XbNC_full.units = 'degC'\n",
    "        XaNC_full.units = 'degC'\n",
    "        #variance.warning = 'test ...'\n",
    "        \n",
    "    # Closing the dataset\n",
    "    nf.close()  # close the new file\n",
    "    print('end writing netCDF')\n",
    "print('All Done')"
   ]
  },
  {
   "cell_type": "code",
   "execution_count": 156,
   "metadata": {},
   "outputs": [
    {
     "name": "stdout",
     "output_type": "stream",
     "text": [
      "[3 2 3]\n",
      "[1 2 3]\n"
     ]
    },
    {
     "data": {
      "text/plain": [
       "False"
      ]
     },
     "execution_count": 156,
     "metadata": {},
     "output_type": "execute_result"
    }
   ],
   "source": [
    "nf.close()  # close the new file\n",
    "w1 = np.array([1,2,3])\n",
    "w2 = np.copy(w1)\n",
    "\n",
    "w2[0] = 3\n",
    "\n",
    "print(w2)   # [3 2 3]\n",
    "print(w1)   # [3 2 3]\n",
    "\n",
    "np.may_share_memory(w2, w1)  # True"
   ]
  },
  {
   "cell_type": "code",
   "execution_count": null,
   "metadata": {},
   "outputs": [],
   "source": []
  },
  {
   "cell_type": "code",
   "execution_count": null,
   "metadata": {},
   "outputs": [],
   "source": []
  },
  {
   "cell_type": "code",
   "execution_count": 112,
   "metadata": {},
   "outputs": [
    {
     "name": "stdout",
     "output_type": "stream",
     "text": [
      "(36, 36)\n",
      "33.732727\n",
      "(36, 36)\n",
      "33.73631\n",
      "(36, 36)\n",
      "33.736412\n"
     ]
    }
   ],
   "source": [
    "nf = Dataset(nc_filename, 'r', format='NETCDF4')\n",
    "Xa = nf.variables[nc_var_name+'_Xa_mean']\n",
    "for reconi in range(recon_period_len):\n",
    "    Xam1 = Xa[:,:,0,reconi]\n",
    "    print(Xam1.shape)\n",
    "    print(np.nanmean(Xam1))\n",
    "nf.close()  # close the new file"
   ]
  },
  {
   "cell_type": "code",
   "execution_count": null,
   "metadata": {},
   "outputs": [],
   "source": []
  }
 ],
 "metadata": {
  "kernelspec": {
   "display_name": "Python 3",
   "language": "python",
   "name": "python3"
  },
  "language_info": {
   "codemirror_mode": {
    "name": "ipython",
    "version": 3
   },
   "file_extension": ".py",
   "mimetype": "text/x-python",
   "name": "python",
   "nbconvert_exporter": "python",
   "pygments_lexer": "ipython3",
   "version": "3.6.8"
  }
 },
 "nbformat": 4,
 "nbformat_minor": 4
}
