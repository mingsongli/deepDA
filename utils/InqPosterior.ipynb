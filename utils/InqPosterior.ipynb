{
 "cells": [
  {
   "cell_type": "code",
   "execution_count": 41,
   "id": "eb302cb8-9e9d-468a-980e-4a145b7e5cda",
   "metadata": {},
   "outputs": [
    {
     "name": "stdout",
     "output_type": "stream",
     "text": [
      "(36, 36, 10000, 1, 2)\n",
      "[16, 29]\n",
      "DSDP Site 401 : misc_pH_Xa_full\n",
      "pre_i  : 7.53 (7.36 - 7.75)\n",
      "[7.36 7.53 7.75]\n",
      "[7.14 7.3  7.51]\n",
      "[-0.36 -0.23 -0.13]\n",
      "delta_i: -0.23 (-0.13 - -0.36)\n"
     ]
    },
    {
     "name": "stderr",
     "output_type": "stream",
     "text": [
      "/Users/mingsongli/miniconda3/envs/deepda/lib/python3.6/site-packages/seaborn/distributions.py:2557: FutureWarning: `distplot` is a deprecated function and will be removed in a future version. Please adapt your code to use either `displot` (a figure-level function with similar flexibility) or `histplot` (an axes-level function for histograms).\n",
      "  warnings.warn(msg, FutureWarning)\n"
     ]
    },
    {
     "data": {
      "image/png": "[encoded data removed]",
      "text/plain": [
       "<Figure size 432x288 with 1 Axes>"
      ]
     },
     "metadata": {
      "needs_background": "light"
     },
     "output_type": "display_data"
    }
   ],
   "source": [
    "'''\n",
    "inqury posterior from DA output using given paleo gps\n",
    "'''\n",
    "import sys\n",
    "sys.path.append('../')\n",
    "import os\n",
    "import numpy as np\n",
    "import pandas as pd\n",
    "from netCDF4 import Dataset\n",
    "from DeepDA_lib import modules_nc\n",
    "import matplotlib.pyplot as plt\n",
    "import seaborn as sns\n",
    "\n",
    "%matplotlib inline\n",
    "#from mpl_toolkits.basemap import Basemap, shiftgrid, cm\n",
    "from matplotlib.ticker import (MultipleLocator, FormatStrFormatter,\n",
    "                               AutoMinorLocator)\n",
    "\n",
    "\n",
    "# Location\n",
    "\n",
    "\n",
    "\n",
    "\n",
    "site = 'New Jersey'\n",
    "location_i = [-55.55, 38.45]\n",
    "\n",
    "site = 'ODP Site 1263'\n",
    "location_i = [-12, -37.6]\n",
    "\n",
    "site = 'ODP Site 1209'\n",
    "location_i = [-155.45, 28.35]  # ODP site 1209\n",
    "\n",
    "site = 'DSDP Site 401'\n",
    "location_i = [-10.95, 41.8] # DSDP 401\n",
    "\n",
    "Xa_full_name_vari = 'misc_pH_Xa_full'\n",
    "\n",
    "dum_lon_offset = -180.0\n",
    "dum_imax = 36\n",
    "dum_jmax = 36\n",
    "\n",
    "binsn = 50\n",
    "bcolor = 'r'\n",
    "perclist = [2.5, 50, 97.5]\n",
    "\n",
    "directory = '/Users/mingsongli/Documents/posterior/'\n",
    "experiment = 'petmproxy3slices_v0.1.2.csv_petm31_v0.1.2_deep_20221209_All.noAc._bays_MC100_pHcor_frac0.98_Ca75_biogem_SatuBen_setLim'\n",
    "experiment = 'petmproxy3slices_v0.1.2-w-hiatus.csv_petm31_v0.1.2_whiatus_deep_20221209_All.noAc._bays_MC100_pHcor_frac0.98_Ca75_biogem_SatuBen_setLim'\n",
    "\n",
    "nc_shortname = '_loc_0_proxy_frac_0.98_Rscale_2.0_MC_all.nc'\n",
    "nc_filename = directory + experiment + '/' + nc_shortname\n",
    "\n",
    "\n",
    "Xa2d_full_i = Dataset(nc_filename).variables[Xa_full_name_vari][:]\n",
    "print(Xa2d_full_i.shape)\n",
    "\n",
    "dum_lon = location_i[0]\n",
    "dum_lat = location_i[1]\n",
    "\n",
    "lonlat = modules_nc.cal_find_ij(dum_lon,dum_lat,dum_lon_offset,dum_imax,dum_jmax)\n",
    "# output [lon, lat]\n",
    "# lon ranges from 0 (-180) to 35 (180), lat ranges from 0 (-90) to 35 (90)\n",
    "print(lonlat)\n",
    "\n",
    "pre_i   = Xa2d_full_i[lonlat[1], lonlat[0], :,0, 0]\n",
    "peak_i  = Xa2d_full_i[lonlat[1], lonlat[0], :,0, 1]\n",
    "delta_i = -pre_i + peak_i\n",
    "\n",
    "plt.subplot(1,1,1)\n",
    "bx = pd.Series(delta_i)            \n",
    "ax = sns.distplot( bx, bins=binsn, label='Prior', color = bcolor)\n",
    "ax.xaxis.set_minor_locator(AutoMinorLocator())\n",
    "ax.set_ylabel('Density')\n",
    "ax.set_xlabel('delta pH')\n",
    "ax.tick_params(labelsize='small')\n",
    "\n",
    "np.set_printoptions(suppress=True, precision=2)\n",
    "\n",
    "print(site + ' : ' + Xa_full_name_vari)\n",
    "perc = np.percentile(pre_i,perclist)\n",
    "print('pre_i  : ' + np.array2string(perc[1]) + ' (' + np.array2string(perc[0]) + ' - ' + np.array2string(perc[2]) + ')')\n",
    "print(perc)\n",
    "perc = np.percentile(peak_i,perclist)\n",
    "#print('peak_i : ' + np.array2string(perc[1]) + ' (' + np.array2string(perc[0]) + ' - ' + np.array2string(perc[2]) + ')')\n",
    "print(perc)\n",
    "perc = np.percentile(delta_i,perclist)\n",
    "print(perc)\n",
    "print('delta_i: ' + np.array2string(perc[1]) + ' (' + np.array2string(perc[2]) + ' - ' + np.array2string(perc[0]) + ')')\n",
    "\n",
    "plt.savefig(experiment +'_'+ Xa_full_name_vari +'_'+ site + '.pdf')"
   ]
  },
  {
   "cell_type": "code",
   "execution_count": null,
   "id": "631cd2c0-e2ba-4e0c-8acb-c68f2ffcc10f",
   "metadata": {},
   "outputs": [],
   "source": [
    "ODP Site 1263 : misc_pH_Xa_full\n",
    "pre_i  : 7.68 (7.5 - 7.89)\n",
    "peak_i : 7.35 (7.19 - 7.56)\n",
    "delta_i: -0.33 (-0.21 - -0.45)\n",
    "\n",
    "ODP Site 1209 : misc_pH_Xa_full\n",
    "pre_i  : 7.68 (7.49 - 7.89)\n",
    "peak_i : 7.34 (7.18 - 7.55)\n",
    "delta_i: -0.33 (-0.21 - -0.45)\n",
    "    \n",
    "DSDP Site 401 : misc_pH_Xa_full\n",
    "pre_i  : 7.7 (7.51 - 7.91)\n",
    "peak_i : 7.35 (7.19 - 7.56)\n",
    "delta_i: -0.35 (-0.23 - -0.48)\n",
    "    \n",
    "New Jersey : misc_pH_Xa_full\n",
    "pre_i  : 7.68 (7.49 - 7.9)\n",
    "peak_i : 7.34 (7.18 - 7.55)\n",
    "delta_i: -0.34 (-0.22 - -0.47)"
   ]
  }
 ],
 "metadata": {
  "kernelspec": {
   "display_name": "Python 3",
   "language": "python",
   "name": "python3"
  },
  "language_info": {
   "codemirror_mode": {
    "name": "ipython",
    "version": 3
   },
   "file_extension": ".py",
   "mimetype": "text/x-python",
   "name": "python",
   "nbconvert_exporter": "python",
   "pygments_lexer": "ipython3",
   "version": "3.6.13"
  }
 },
 "nbformat": 4,
 "nbformat_minor": 5
}
